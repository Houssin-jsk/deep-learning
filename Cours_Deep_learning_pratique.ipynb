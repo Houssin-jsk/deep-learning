{
 "cells": [
  {
   "cell_type": "markdown",
   "id": "67fd8263-037e-43ba-ba5e-1d9a49b47c8e",
   "metadata": {},
   "source": [
    "# ***Travail Pratique : Création d’un Modèle de Régression en Deep Learning avec Keras***"
   ]
  },
  {
   "cell_type": "markdown",
   "id": "1c6d7ec7-a03c-453c-a5a3-08127c49b434",
   "metadata": {},
   "source": [
    "### ***Objectif***\n",
    "\n",
    "Créer un modèle de régression en deep learning en utilisant TensorFlow/Keras, de l'importation des données jusqu'à l'évaluation du modèle."
   ]
  },
  {
   "cell_type": "markdown",
   "id": "c9c0aa1b-42c1-41b3-87b4-a1e6ecb796fb",
   "metadata": {},
   "source": [
    "***1. Installation des bibliothèques nécessaires :***\n",
    "pip install numpy pandas matplotlib seaborn tensorflow scikit-learn"
   ]
  },
  {
   "cell_type": "markdown",
   "id": "0d9c73d6-bf35-487a-9a73-1fcf59851905",
   "metadata": {},
   "source": [
    "***Etape 1: Importation des bibliothèques en Python*** : "
   ]
  },
  {
   "cell_type": "code",
   "execution_count": 17,
   "id": "701135c1-d286-4ecc-83ff-d93c8e199fdc",
   "metadata": {},
   "outputs": [],
   "source": [
    "import numpy as np  \n",
    "import pandas as pd  \n",
    "import matplotlib.pyplot as plt  \n",
    "import seaborn as sns  \n",
    "from sklearn.model_selection import train_test_split \n",
    "from sklearn.preprocessing import StandardScaler  \n",
    "import tensorflow as tf  \n",
    "from tensorflow import keras  \n",
    "from tensorflow.keras import layers  \n",
    "### from tensorflow.keras.datasets import boston_housing\n"
   ]
  },
  {
   "cell_type": "markdown",
   "id": "afce6389-b326-46ea-8b28-c8fc63d9c81d",
   "metadata": {},
   "source": [
    "## ***from sklearn.model_selection import train_test_split***\n",
    "\n",
    "La fonction ***train_test_split*** de Scikit-Learn est utilisée pour diviser un dataset en ensembles d'entraînement et de test."
   ]
  },
  {
   "cell_type": "markdown",
   "id": "d0141223-1ec1-4d33-a69a-04112d503baf",
   "metadata": {},
   "source": [
    "## ***from sklearn.preprocessing import StandardScaler***  "
   ]
  },
  {
   "cell_type": "markdown",
   "id": "f7437411-5162-4d2b-8ff9-964408a643ed",
   "metadata": {},
   "source": [
    "***StandardScaler*** est une classe de sklearn.preprocessing utilisée pour normaliser les données en appliquant une mise à l’échelle standard (standardization)."
   ]
  },
  {
   "cell_type": "markdown",
   "id": "8b14b601-67b2-40a0-afd8-f5b3139eac4a",
   "metadata": {},
   "source": [
    "StandardScaler transforme les données pour qu'elles aient une moyenne de 0 et un écart-type de 1 (distribution normale centrée réduite)."
   ]
  },
  {
   "cell_type": "markdown",
   "id": "744b1067-2130-4968-a0fd-744a84b28d35",
   "metadata": {},
   "source": [
    "## ***import tensorflow as tf***"
   ]
  },
  {
   "cell_type": "markdown",
   "id": "9b1fc4c3-69c1-4d22-8d0e-01cd39d8af9e",
   "metadata": {},
   "source": [
    "***Qu'est-ce que TensorFlow ?***\n",
    "\n",
    "📌 TensorFlow est une bibliothèque open-source développée par Google pour le machine learning et le deep learning.\n",
    "\n",
    "📌 Elle permet de créer, entraîner et déployer des modèles d'intelligence artificielle, notamment des ***réseaux de neurones profonds (Deep Learning)***."
   ]
  },
  {
   "cell_type": "code",
   "execution_count": 18,
   "id": "40a5ab3b-e2be-4292-81e3-37ac2392e1e3",
   "metadata": {},
   "outputs": [
    {
     "name": "stdout",
     "output_type": "stream",
     "text": [
      "2.18.0\n"
     ]
    }
   ],
   "source": [
    "## Vérifier l’installation de TensorFlow\n",
    "import tensorflow as tf\n",
    "print(tf.__version__) "
   ]
  },
  {
   "cell_type": "markdown",
   "id": "00beeeae-f235-4eb7-abd9-df88ece7d8a0",
   "metadata": {},
   "source": [
    "# ***from tensorflow import keras***"
   ]
  },
  {
   "cell_type": "markdown",
   "id": "49bcf81e-34b4-4055-82d3-bc31577d3886",
   "metadata": {},
   "source": [
    "***Qu'est-ce que keras ?***\n",
    "\n",
    "📌 Keras est une API haut niveau intégrée à TensorFlow, utilisée pour construire et entraîner des modèles de deep learning de manière simple et rapide.\n",
    "\n",
    "📌 Elle permet de créer, compiler et entraîner des réseaux de neurones avec peu de lignes de code.\n",
    "\n",
    "📌 Pourquoi \"from tensorflow import keras\" ?"
   ]
  },
  {
   "cell_type": "markdown",
   "id": "d5fa5345-996e-44c2-bb11-bcc5d268bab8",
   "metadata": {},
   "source": [
    "# ***tensorflow.keras import layers***"
   ]
  },
  {
   "cell_type": "markdown",
   "id": "5626d08b-6ca7-4543-92de-22f522a25093",
   "metadata": {},
   "source": [
    "***Qu'est-ce que layers dans Keras ?***\n",
    "\n",
    "📌 layers est un module de Keras qui permet d’ajouter des couches (layers) à un modèle de deep learning.\n",
    "\n",
    "📌 Un réseau de neurones est composé de plusieurs couches de neurones interconnectés, et tensorflow.keras.layers fournit des couches prêtes à l'emploi pour construire ces réseaux.\n",
    "\n",
    "📌 En important layers, on peut ajouter différents types de couches cachées, d'entrée et de sortie à un modèle Keras."
   ]
  },
  {
   "cell_type": "markdown",
   "id": "8a7521e6-d555-4d31-9850-196f3d8d5f19",
   "metadata": {},
   "source": [
    "# ***From tensorflow.keras.datasets import...***"
   ]
  },
  {
   "cell_type": "markdown",
   "id": "239277c8-f35b-46f3-b8e3-b9d7bb61f22a",
   "metadata": {},
   "source": [
    "***Qu'est-ce que tensorflow.keras.datasets ?***\n",
    "\n",
    "📌 tensorflow.keras.datasets est un module intégré à Keras qui fournit plusieurs jeux de données populaires, directement accessibles pour l'entraînement de modèles de deep learning.\n",
    "\n",
    "📌 Ces datasets sont prêts à l'emploi et sont souvent utilisés pour l'apprentissage et l'expérimentation en machine learning.\n",
    "\n",
    "📌 Ils sont automatiquement divisés en données d'entraînement et de test."
   ]
  },
  {
   "cell_type": "markdown",
   "id": "8c1a872f-e88f-40a3-bcd0-8f48d67f60f8",
   "metadata": {},
   "source": [
    "### ***Etape 2 :  Chargement et exploration des données***"
   ]
  },
  {
   "cell_type": "markdown",
   "id": "4bac8586-09a9-4977-b4a2-0f8c04df774b",
   "metadata": {},
   "source": [
    "### ***1. Avec (from tensorflow.keras.datasets )***\n",
    "#### ***EXEMPLE***\n"
   ]
  },
  {
   "cell_type": "code",
   "execution_count": 19,
   "id": "6a896a1f-41f3-4db9-a437-2e49e2893d44",
   "metadata": {},
   "outputs": [],
   "source": [
    "from tensorflow.keras.datasets import boston_housing\n",
    "\n",
    "# Charger les données Boston Housing\n",
    "(X_train, y_train), (X_test, y_test) = boston_housing.load_data()"
   ]
  },
  {
   "cell_type": "markdown",
   "id": "af83d879-80ca-4576-8dfc-5633e42e8f65",
   "metadata": {},
   "source": [
    "### ***2. Fichier CSV***\n",
    "\n",
    "***df = pd.read_csv(\"data.csv\")***\n",
    "\n",
    "Si vous utilisez un dataset en ligne, vous pouvez aussi utiliser pd.read_csv(url).\n"
   ]
  },
  {
   "cell_type": "markdown",
   "id": "b847ac0b-9f5b-4d74-a73e-a40e28ecc63a",
   "metadata": {},
   "source": [
    "### Exemple "
   ]
  },
  {
   "cell_type": "code",
   "execution_count": 20,
   "id": "48d4dd70-c602-4195-9b8e-22037f7bb302",
   "metadata": {},
   "outputs": [],
   "source": [
    "df = pd.read_csv(\"Boston.csv\")"
   ]
  },
  {
   "cell_type": "markdown",
   "id": "f30b5386-a021-44e0-b649-43ec41df8073",
   "metadata": {},
   "source": [
    "#### Affichage des premières lignes\n"
   ]
  },
  {
   "cell_type": "code",
   "execution_count": 21,
   "id": "3511232c-bb30-42cf-be40-65e7d7e91f16",
   "metadata": {},
   "outputs": [
    {
     "data": {
      "text/html": [
       "<div>\n",
       "<style scoped>\n",
       "    .dataframe tbody tr th:only-of-type {\n",
       "        vertical-align: middle;\n",
       "    }\n",
       "\n",
       "    .dataframe tbody tr th {\n",
       "        vertical-align: top;\n",
       "    }\n",
       "\n",
       "    .dataframe thead th {\n",
       "        text-align: right;\n",
       "    }\n",
       "</style>\n",
       "<table border=\"1\" class=\"dataframe\">\n",
       "  <thead>\n",
       "    <tr style=\"text-align: right;\">\n",
       "      <th></th>\n",
       "      <th>Unnamed: 0</th>\n",
       "      <th>crim</th>\n",
       "      <th>zn</th>\n",
       "      <th>indus</th>\n",
       "      <th>chas</th>\n",
       "      <th>nox</th>\n",
       "      <th>rm</th>\n",
       "      <th>age</th>\n",
       "      <th>dis</th>\n",
       "      <th>rad</th>\n",
       "      <th>tax</th>\n",
       "      <th>ptratio</th>\n",
       "      <th>black</th>\n",
       "      <th>lstat</th>\n",
       "      <th>medv</th>\n",
       "    </tr>\n",
       "  </thead>\n",
       "  <tbody>\n",
       "    <tr>\n",
       "      <th>0</th>\n",
       "      <td>1</td>\n",
       "      <td>0.00632</td>\n",
       "      <td>18.0</td>\n",
       "      <td>2.31</td>\n",
       "      <td>0</td>\n",
       "      <td>0.538</td>\n",
       "      <td>6.575</td>\n",
       "      <td>65.2</td>\n",
       "      <td>4.0900</td>\n",
       "      <td>1</td>\n",
       "      <td>296</td>\n",
       "      <td>15.3</td>\n",
       "      <td>396.90</td>\n",
       "      <td>4.98</td>\n",
       "      <td>24.0</td>\n",
       "    </tr>\n",
       "    <tr>\n",
       "      <th>1</th>\n",
       "      <td>2</td>\n",
       "      <td>0.02731</td>\n",
       "      <td>0.0</td>\n",
       "      <td>7.07</td>\n",
       "      <td>0</td>\n",
       "      <td>0.469</td>\n",
       "      <td>6.421</td>\n",
       "      <td>78.9</td>\n",
       "      <td>4.9671</td>\n",
       "      <td>2</td>\n",
       "      <td>242</td>\n",
       "      <td>17.8</td>\n",
       "      <td>396.90</td>\n",
       "      <td>9.14</td>\n",
       "      <td>21.6</td>\n",
       "    </tr>\n",
       "    <tr>\n",
       "      <th>2</th>\n",
       "      <td>3</td>\n",
       "      <td>0.02729</td>\n",
       "      <td>0.0</td>\n",
       "      <td>7.07</td>\n",
       "      <td>0</td>\n",
       "      <td>0.469</td>\n",
       "      <td>7.185</td>\n",
       "      <td>61.1</td>\n",
       "      <td>4.9671</td>\n",
       "      <td>2</td>\n",
       "      <td>242</td>\n",
       "      <td>17.8</td>\n",
       "      <td>392.83</td>\n",
       "      <td>4.03</td>\n",
       "      <td>34.7</td>\n",
       "    </tr>\n",
       "    <tr>\n",
       "      <th>3</th>\n",
       "      <td>4</td>\n",
       "      <td>0.03237</td>\n",
       "      <td>0.0</td>\n",
       "      <td>2.18</td>\n",
       "      <td>0</td>\n",
       "      <td>0.458</td>\n",
       "      <td>6.998</td>\n",
       "      <td>45.8</td>\n",
       "      <td>6.0622</td>\n",
       "      <td>3</td>\n",
       "      <td>222</td>\n",
       "      <td>18.7</td>\n",
       "      <td>394.63</td>\n",
       "      <td>2.94</td>\n",
       "      <td>33.4</td>\n",
       "    </tr>\n",
       "    <tr>\n",
       "      <th>4</th>\n",
       "      <td>5</td>\n",
       "      <td>0.06905</td>\n",
       "      <td>0.0</td>\n",
       "      <td>2.18</td>\n",
       "      <td>0</td>\n",
       "      <td>0.458</td>\n",
       "      <td>7.147</td>\n",
       "      <td>54.2</td>\n",
       "      <td>6.0622</td>\n",
       "      <td>3</td>\n",
       "      <td>222</td>\n",
       "      <td>18.7</td>\n",
       "      <td>396.90</td>\n",
       "      <td>5.33</td>\n",
       "      <td>36.2</td>\n",
       "    </tr>\n",
       "    <tr>\n",
       "      <th>...</th>\n",
       "      <td>...</td>\n",
       "      <td>...</td>\n",
       "      <td>...</td>\n",
       "      <td>...</td>\n",
       "      <td>...</td>\n",
       "      <td>...</td>\n",
       "      <td>...</td>\n",
       "      <td>...</td>\n",
       "      <td>...</td>\n",
       "      <td>...</td>\n",
       "      <td>...</td>\n",
       "      <td>...</td>\n",
       "      <td>...</td>\n",
       "      <td>...</td>\n",
       "      <td>...</td>\n",
       "    </tr>\n",
       "    <tr>\n",
       "      <th>501</th>\n",
       "      <td>502</td>\n",
       "      <td>0.06263</td>\n",
       "      <td>0.0</td>\n",
       "      <td>11.93</td>\n",
       "      <td>0</td>\n",
       "      <td>0.573</td>\n",
       "      <td>6.593</td>\n",
       "      <td>69.1</td>\n",
       "      <td>2.4786</td>\n",
       "      <td>1</td>\n",
       "      <td>273</td>\n",
       "      <td>21.0</td>\n",
       "      <td>391.99</td>\n",
       "      <td>9.67</td>\n",
       "      <td>22.4</td>\n",
       "    </tr>\n",
       "    <tr>\n",
       "      <th>502</th>\n",
       "      <td>503</td>\n",
       "      <td>0.04527</td>\n",
       "      <td>0.0</td>\n",
       "      <td>11.93</td>\n",
       "      <td>0</td>\n",
       "      <td>0.573</td>\n",
       "      <td>6.120</td>\n",
       "      <td>76.7</td>\n",
       "      <td>2.2875</td>\n",
       "      <td>1</td>\n",
       "      <td>273</td>\n",
       "      <td>21.0</td>\n",
       "      <td>396.90</td>\n",
       "      <td>9.08</td>\n",
       "      <td>20.6</td>\n",
       "    </tr>\n",
       "    <tr>\n",
       "      <th>503</th>\n",
       "      <td>504</td>\n",
       "      <td>0.06076</td>\n",
       "      <td>0.0</td>\n",
       "      <td>11.93</td>\n",
       "      <td>0</td>\n",
       "      <td>0.573</td>\n",
       "      <td>6.976</td>\n",
       "      <td>91.0</td>\n",
       "      <td>2.1675</td>\n",
       "      <td>1</td>\n",
       "      <td>273</td>\n",
       "      <td>21.0</td>\n",
       "      <td>396.90</td>\n",
       "      <td>5.64</td>\n",
       "      <td>23.9</td>\n",
       "    </tr>\n",
       "    <tr>\n",
       "      <th>504</th>\n",
       "      <td>505</td>\n",
       "      <td>0.10959</td>\n",
       "      <td>0.0</td>\n",
       "      <td>11.93</td>\n",
       "      <td>0</td>\n",
       "      <td>0.573</td>\n",
       "      <td>6.794</td>\n",
       "      <td>89.3</td>\n",
       "      <td>2.3889</td>\n",
       "      <td>1</td>\n",
       "      <td>273</td>\n",
       "      <td>21.0</td>\n",
       "      <td>393.45</td>\n",
       "      <td>6.48</td>\n",
       "      <td>22.0</td>\n",
       "    </tr>\n",
       "    <tr>\n",
       "      <th>505</th>\n",
       "      <td>506</td>\n",
       "      <td>0.04741</td>\n",
       "      <td>0.0</td>\n",
       "      <td>11.93</td>\n",
       "      <td>0</td>\n",
       "      <td>0.573</td>\n",
       "      <td>6.030</td>\n",
       "      <td>80.8</td>\n",
       "      <td>2.5050</td>\n",
       "      <td>1</td>\n",
       "      <td>273</td>\n",
       "      <td>21.0</td>\n",
       "      <td>396.90</td>\n",
       "      <td>7.88</td>\n",
       "      <td>11.9</td>\n",
       "    </tr>\n",
       "  </tbody>\n",
       "</table>\n",
       "<p>506 rows × 15 columns</p>\n",
       "</div>"
      ],
      "text/plain": [
       "     Unnamed: 0     crim    zn  indus  chas    nox     rm   age     dis  rad  \\\n",
       "0             1  0.00632  18.0   2.31     0  0.538  6.575  65.2  4.0900    1   \n",
       "1             2  0.02731   0.0   7.07     0  0.469  6.421  78.9  4.9671    2   \n",
       "2             3  0.02729   0.0   7.07     0  0.469  7.185  61.1  4.9671    2   \n",
       "3             4  0.03237   0.0   2.18     0  0.458  6.998  45.8  6.0622    3   \n",
       "4             5  0.06905   0.0   2.18     0  0.458  7.147  54.2  6.0622    3   \n",
       "..          ...      ...   ...    ...   ...    ...    ...   ...     ...  ...   \n",
       "501         502  0.06263   0.0  11.93     0  0.573  6.593  69.1  2.4786    1   \n",
       "502         503  0.04527   0.0  11.93     0  0.573  6.120  76.7  2.2875    1   \n",
       "503         504  0.06076   0.0  11.93     0  0.573  6.976  91.0  2.1675    1   \n",
       "504         505  0.10959   0.0  11.93     0  0.573  6.794  89.3  2.3889    1   \n",
       "505         506  0.04741   0.0  11.93     0  0.573  6.030  80.8  2.5050    1   \n",
       "\n",
       "     tax  ptratio   black  lstat  medv  \n",
       "0    296     15.3  396.90   4.98  24.0  \n",
       "1    242     17.8  396.90   9.14  21.6  \n",
       "2    242     17.8  392.83   4.03  34.7  \n",
       "3    222     18.7  394.63   2.94  33.4  \n",
       "4    222     18.7  396.90   5.33  36.2  \n",
       "..   ...      ...     ...    ...   ...  \n",
       "501  273     21.0  391.99   9.67  22.4  \n",
       "502  273     21.0  396.90   9.08  20.6  \n",
       "503  273     21.0  396.90   5.64  23.9  \n",
       "504  273     21.0  393.45   6.48  22.0  \n",
       "505  273     21.0  396.90   7.88  11.9  \n",
       "\n",
       "[506 rows x 15 columns]"
      ]
     },
     "execution_count": 21,
     "metadata": {},
     "output_type": "execute_result"
    }
   ],
   "source": [
    "df"
   ]
  },
  {
   "cell_type": "code",
   "execution_count": 22,
   "id": "4786f35c-4a96-4d3b-822d-ef8987b3b076",
   "metadata": {},
   "outputs": [
    {
     "name": "stdout",
     "output_type": "stream",
     "text": [
      "<class 'pandas.core.frame.DataFrame'>\n",
      "RangeIndex: 506 entries, 0 to 505\n",
      "Data columns (total 15 columns):\n",
      " #   Column      Non-Null Count  Dtype  \n",
      "---  ------      --------------  -----  \n",
      " 0   Unnamed: 0  506 non-null    int64  \n",
      " 1   crim        506 non-null    float64\n",
      " 2   zn          506 non-null    float64\n",
      " 3   indus       506 non-null    float64\n",
      " 4   chas        506 non-null    int64  \n",
      " 5   nox         506 non-null    float64\n",
      " 6   rm          506 non-null    float64\n",
      " 7   age         506 non-null    float64\n",
      " 8   dis         506 non-null    float64\n",
      " 9   rad         506 non-null    int64  \n",
      " 10  tax         506 non-null    int64  \n",
      " 11  ptratio     506 non-null    float64\n",
      " 12  black       506 non-null    float64\n",
      " 13  lstat       506 non-null    float64\n",
      " 14  medv        506 non-null    float64\n",
      "dtypes: float64(11), int64(4)\n",
      "memory usage: 59.4 KB\n"
     ]
    }
   ],
   "source": [
    "df.info()"
   ]
  },
  {
   "cell_type": "markdown",
   "id": "ad0a567b-5e79-48ad-818b-2756533a73c1",
   "metadata": {},
   "source": [
    "#### Vérification des valeurs manquantes"
   ]
  },
  {
   "cell_type": "code",
   "execution_count": 23,
   "id": "f17c1673-b12c-4b86-95cb-c2266bdcfd52",
   "metadata": {},
   "outputs": [
    {
     "name": "stdout",
     "output_type": "stream",
     "text": [
      "Unnamed: 0    0\n",
      "crim          0\n",
      "zn            0\n",
      "indus         0\n",
      "chas          0\n",
      "nox           0\n",
      "rm            0\n",
      "age           0\n",
      "dis           0\n",
      "rad           0\n",
      "tax           0\n",
      "ptratio       0\n",
      "black         0\n",
      "lstat         0\n",
      "medv          0\n",
      "dtype: int64\n"
     ]
    }
   ],
   "source": [
    "print(df.isnull().sum())"
   ]
  },
  {
   "cell_type": "markdown",
   "id": "9ffa0034-6b3f-4bf9-8bac-40cc6b6d08e9",
   "metadata": {},
   "source": [
    "#### ***en cas de variable quantitative les valeurs manquent, sont remplacer par la moyenne :(Trés utilisé)*** "
   ]
  },
  {
   "cell_type": "code",
   "execution_count": 24,
   "id": "79472a73-792a-42c7-9930-1cdc00a83ec0",
   "metadata": {},
   "outputs": [],
   "source": [
    "## df['colonne]=df['colonne].fillna(df['colonne].mean(), inplace=True)"
   ]
  },
  {
   "cell_type": "markdown",
   "id": "23b2069b-14ac-4538-b0a9-51ebcf08b834",
   "metadata": {},
   "source": [
    "#### ***en cas variables qualitative  les valeurs  manquent sont remplacer par le mode :***"
   ]
  },
  {
   "cell_type": "code",
   "execution_count": 25,
   "id": "58bad2ed-fa61-4aa7-81cd-911aeb6a1a24",
   "metadata": {},
   "outputs": [],
   "source": [
    "## df['colonne'] = df['colonne'].fillna(df['colonne'].mode()[0])"
   ]
  },
  {
   "cell_type": "code",
   "execution_count": null,
   "id": "2b68a8e8-5c40-4d92-bcc6-e65f7bbd428d",
   "metadata": {},
   "outputs": [],
   "source": []
  },
  {
   "cell_type": "markdown",
   "id": "588e3e20-0b89-4d8d-a0b9-ec36e3fec17c",
   "metadata": {},
   "source": [
    "***option 3. Si il ya des valeurs manquent, on peut les supprimés :***"
   ]
  },
  {
   "cell_type": "code",
   "execution_count": 26,
   "id": "27c8a6e0-a265-4a55-b232-b203d1dbc1d7",
   "metadata": {},
   "outputs": [],
   "source": [
    "import pandas as pd\n",
    "df = df.dropna()  # Supprime les lignes contenant des valeurs manquantes"
   ]
  },
  {
   "cell_type": "code",
   "execution_count": 27,
   "id": "41eba124-cba9-4fff-833d-68aeff20d53d",
   "metadata": {},
   "outputs": [
    {
     "name": "stdout",
     "output_type": "stream",
     "text": [
      "Unnamed: 0    0\n",
      "crim          0\n",
      "zn            0\n",
      "indus         0\n",
      "chas          0\n",
      "nox           0\n",
      "rm            0\n",
      "age           0\n",
      "dis           0\n",
      "rad           0\n",
      "tax           0\n",
      "ptratio       0\n",
      "black         0\n",
      "lstat         0\n",
      "medv          0\n",
      "dtype: int64\n"
     ]
    }
   ],
   "source": [
    "print(df.isnull().sum())"
   ]
  },
  {
   "cell_type": "markdown",
   "id": "b710b10d-489f-43f7-bb74-c26b3039b1b0",
   "metadata": {},
   "source": [
    "### Visualisation des données"
   ]
  },
  {
   "cell_type": "markdown",
   "id": "4de18eff-022d-4c49-a974-1c03895e5a3b",
   "metadata": {},
   "source": [
    "Histograme pour les variables quantitative \n",
    " \n",
    "répartition des effectifs pour les variables qualitative"
   ]
  },
  {
   "cell_type": "markdown",
   "id": "1c76504e-dcd1-4690-8e28-1d1fa844f1ff",
   "metadata": {},
   "source": [
    "## Préparation des données"
   ]
  },
  {
   "cell_type": "markdown",
   "id": "a3aa14ed-b20d-4046-a157-51c3fa8392e4",
   "metadata": {},
   "source": [
    "***Séparation des features et de la variable cible***"
   ]
  },
  {
   "cell_type": "code",
   "execution_count": 28,
   "id": "2f0a8fb8-9960-4a1b-8f83-734a1e923310",
   "metadata": {},
   "outputs": [],
   "source": [
    "X = df.drop(columns=[\"medv\"])  # Variables d’entrée  \n",
    "y = df[\"medv\"]  # Variable cible"
   ]
  },
  {
   "cell_type": "code",
   "execution_count": 29,
   "id": "d056add4-75a8-4077-b110-a21d084d2dee",
   "metadata": {},
   "outputs": [
    {
     "data": {
      "text/html": [
       "<div>\n",
       "<style scoped>\n",
       "    .dataframe tbody tr th:only-of-type {\n",
       "        vertical-align: middle;\n",
       "    }\n",
       "\n",
       "    .dataframe tbody tr th {\n",
       "        vertical-align: top;\n",
       "    }\n",
       "\n",
       "    .dataframe thead th {\n",
       "        text-align: right;\n",
       "    }\n",
       "</style>\n",
       "<table border=\"1\" class=\"dataframe\">\n",
       "  <thead>\n",
       "    <tr style=\"text-align: right;\">\n",
       "      <th></th>\n",
       "      <th>Unnamed: 0</th>\n",
       "      <th>crim</th>\n",
       "      <th>zn</th>\n",
       "      <th>indus</th>\n",
       "      <th>chas</th>\n",
       "      <th>nox</th>\n",
       "      <th>rm</th>\n",
       "      <th>age</th>\n",
       "      <th>dis</th>\n",
       "      <th>rad</th>\n",
       "      <th>tax</th>\n",
       "      <th>ptratio</th>\n",
       "      <th>black</th>\n",
       "      <th>lstat</th>\n",
       "    </tr>\n",
       "  </thead>\n",
       "  <tbody>\n",
       "    <tr>\n",
       "      <th>0</th>\n",
       "      <td>1</td>\n",
       "      <td>0.00632</td>\n",
       "      <td>18.0</td>\n",
       "      <td>2.31</td>\n",
       "      <td>0</td>\n",
       "      <td>0.538</td>\n",
       "      <td>6.575</td>\n",
       "      <td>65.2</td>\n",
       "      <td>4.0900</td>\n",
       "      <td>1</td>\n",
       "      <td>296</td>\n",
       "      <td>15.3</td>\n",
       "      <td>396.90</td>\n",
       "      <td>4.98</td>\n",
       "    </tr>\n",
       "    <tr>\n",
       "      <th>1</th>\n",
       "      <td>2</td>\n",
       "      <td>0.02731</td>\n",
       "      <td>0.0</td>\n",
       "      <td>7.07</td>\n",
       "      <td>0</td>\n",
       "      <td>0.469</td>\n",
       "      <td>6.421</td>\n",
       "      <td>78.9</td>\n",
       "      <td>4.9671</td>\n",
       "      <td>2</td>\n",
       "      <td>242</td>\n",
       "      <td>17.8</td>\n",
       "      <td>396.90</td>\n",
       "      <td>9.14</td>\n",
       "    </tr>\n",
       "    <tr>\n",
       "      <th>2</th>\n",
       "      <td>3</td>\n",
       "      <td>0.02729</td>\n",
       "      <td>0.0</td>\n",
       "      <td>7.07</td>\n",
       "      <td>0</td>\n",
       "      <td>0.469</td>\n",
       "      <td>7.185</td>\n",
       "      <td>61.1</td>\n",
       "      <td>4.9671</td>\n",
       "      <td>2</td>\n",
       "      <td>242</td>\n",
       "      <td>17.8</td>\n",
       "      <td>392.83</td>\n",
       "      <td>4.03</td>\n",
       "    </tr>\n",
       "    <tr>\n",
       "      <th>3</th>\n",
       "      <td>4</td>\n",
       "      <td>0.03237</td>\n",
       "      <td>0.0</td>\n",
       "      <td>2.18</td>\n",
       "      <td>0</td>\n",
       "      <td>0.458</td>\n",
       "      <td>6.998</td>\n",
       "      <td>45.8</td>\n",
       "      <td>6.0622</td>\n",
       "      <td>3</td>\n",
       "      <td>222</td>\n",
       "      <td>18.7</td>\n",
       "      <td>394.63</td>\n",
       "      <td>2.94</td>\n",
       "    </tr>\n",
       "    <tr>\n",
       "      <th>4</th>\n",
       "      <td>5</td>\n",
       "      <td>0.06905</td>\n",
       "      <td>0.0</td>\n",
       "      <td>2.18</td>\n",
       "      <td>0</td>\n",
       "      <td>0.458</td>\n",
       "      <td>7.147</td>\n",
       "      <td>54.2</td>\n",
       "      <td>6.0622</td>\n",
       "      <td>3</td>\n",
       "      <td>222</td>\n",
       "      <td>18.7</td>\n",
       "      <td>396.90</td>\n",
       "      <td>5.33</td>\n",
       "    </tr>\n",
       "    <tr>\n",
       "      <th>...</th>\n",
       "      <td>...</td>\n",
       "      <td>...</td>\n",
       "      <td>...</td>\n",
       "      <td>...</td>\n",
       "      <td>...</td>\n",
       "      <td>...</td>\n",
       "      <td>...</td>\n",
       "      <td>...</td>\n",
       "      <td>...</td>\n",
       "      <td>...</td>\n",
       "      <td>...</td>\n",
       "      <td>...</td>\n",
       "      <td>...</td>\n",
       "      <td>...</td>\n",
       "    </tr>\n",
       "    <tr>\n",
       "      <th>501</th>\n",
       "      <td>502</td>\n",
       "      <td>0.06263</td>\n",
       "      <td>0.0</td>\n",
       "      <td>11.93</td>\n",
       "      <td>0</td>\n",
       "      <td>0.573</td>\n",
       "      <td>6.593</td>\n",
       "      <td>69.1</td>\n",
       "      <td>2.4786</td>\n",
       "      <td>1</td>\n",
       "      <td>273</td>\n",
       "      <td>21.0</td>\n",
       "      <td>391.99</td>\n",
       "      <td>9.67</td>\n",
       "    </tr>\n",
       "    <tr>\n",
       "      <th>502</th>\n",
       "      <td>503</td>\n",
       "      <td>0.04527</td>\n",
       "      <td>0.0</td>\n",
       "      <td>11.93</td>\n",
       "      <td>0</td>\n",
       "      <td>0.573</td>\n",
       "      <td>6.120</td>\n",
       "      <td>76.7</td>\n",
       "      <td>2.2875</td>\n",
       "      <td>1</td>\n",
       "      <td>273</td>\n",
       "      <td>21.0</td>\n",
       "      <td>396.90</td>\n",
       "      <td>9.08</td>\n",
       "    </tr>\n",
       "    <tr>\n",
       "      <th>503</th>\n",
       "      <td>504</td>\n",
       "      <td>0.06076</td>\n",
       "      <td>0.0</td>\n",
       "      <td>11.93</td>\n",
       "      <td>0</td>\n",
       "      <td>0.573</td>\n",
       "      <td>6.976</td>\n",
       "      <td>91.0</td>\n",
       "      <td>2.1675</td>\n",
       "      <td>1</td>\n",
       "      <td>273</td>\n",
       "      <td>21.0</td>\n",
       "      <td>396.90</td>\n",
       "      <td>5.64</td>\n",
       "    </tr>\n",
       "    <tr>\n",
       "      <th>504</th>\n",
       "      <td>505</td>\n",
       "      <td>0.10959</td>\n",
       "      <td>0.0</td>\n",
       "      <td>11.93</td>\n",
       "      <td>0</td>\n",
       "      <td>0.573</td>\n",
       "      <td>6.794</td>\n",
       "      <td>89.3</td>\n",
       "      <td>2.3889</td>\n",
       "      <td>1</td>\n",
       "      <td>273</td>\n",
       "      <td>21.0</td>\n",
       "      <td>393.45</td>\n",
       "      <td>6.48</td>\n",
       "    </tr>\n",
       "    <tr>\n",
       "      <th>505</th>\n",
       "      <td>506</td>\n",
       "      <td>0.04741</td>\n",
       "      <td>0.0</td>\n",
       "      <td>11.93</td>\n",
       "      <td>0</td>\n",
       "      <td>0.573</td>\n",
       "      <td>6.030</td>\n",
       "      <td>80.8</td>\n",
       "      <td>2.5050</td>\n",
       "      <td>1</td>\n",
       "      <td>273</td>\n",
       "      <td>21.0</td>\n",
       "      <td>396.90</td>\n",
       "      <td>7.88</td>\n",
       "    </tr>\n",
       "  </tbody>\n",
       "</table>\n",
       "<p>506 rows × 14 columns</p>\n",
       "</div>"
      ],
      "text/plain": [
       "     Unnamed: 0     crim    zn  indus  chas    nox     rm   age     dis  rad  \\\n",
       "0             1  0.00632  18.0   2.31     0  0.538  6.575  65.2  4.0900    1   \n",
       "1             2  0.02731   0.0   7.07     0  0.469  6.421  78.9  4.9671    2   \n",
       "2             3  0.02729   0.0   7.07     0  0.469  7.185  61.1  4.9671    2   \n",
       "3             4  0.03237   0.0   2.18     0  0.458  6.998  45.8  6.0622    3   \n",
       "4             5  0.06905   0.0   2.18     0  0.458  7.147  54.2  6.0622    3   \n",
       "..          ...      ...   ...    ...   ...    ...    ...   ...     ...  ...   \n",
       "501         502  0.06263   0.0  11.93     0  0.573  6.593  69.1  2.4786    1   \n",
       "502         503  0.04527   0.0  11.93     0  0.573  6.120  76.7  2.2875    1   \n",
       "503         504  0.06076   0.0  11.93     0  0.573  6.976  91.0  2.1675    1   \n",
       "504         505  0.10959   0.0  11.93     0  0.573  6.794  89.3  2.3889    1   \n",
       "505         506  0.04741   0.0  11.93     0  0.573  6.030  80.8  2.5050    1   \n",
       "\n",
       "     tax  ptratio   black  lstat  \n",
       "0    296     15.3  396.90   4.98  \n",
       "1    242     17.8  396.90   9.14  \n",
       "2    242     17.8  392.83   4.03  \n",
       "3    222     18.7  394.63   2.94  \n",
       "4    222     18.7  396.90   5.33  \n",
       "..   ...      ...     ...    ...  \n",
       "501  273     21.0  391.99   9.67  \n",
       "502  273     21.0  396.90   9.08  \n",
       "503  273     21.0  396.90   5.64  \n",
       "504  273     21.0  393.45   6.48  \n",
       "505  273     21.0  396.90   7.88  \n",
       "\n",
       "[506 rows x 14 columns]"
      ]
     },
     "execution_count": 29,
     "metadata": {},
     "output_type": "execute_result"
    }
   ],
   "source": [
    "X"
   ]
  },
  {
   "cell_type": "markdown",
   "id": "fce534fc-9554-41e3-8e19-a20c1ddbd103",
   "metadata": {},
   "source": [
    "### ***Transformation vers numpy***"
   ]
  },
  {
   "cell_type": "code",
   "execution_count": 30,
   "id": "10fd31c2-00bb-4bfb-ac93-552dcf42e133",
   "metadata": {},
   "outputs": [],
   "source": [
    "X= X.to_numpy()\n",
    "y=y.to_numpy()"
   ]
  },
  {
   "cell_type": "markdown",
   "id": "52c559b3-bde2-4998-8d46-1721d4ac2f0f",
   "metadata": {},
   "source": [
    "### ***visualiser les caractéristique des données***"
   ]
  },
  {
   "cell_type": "code",
   "execution_count": 31,
   "id": "157abe83-30f1-4a08-964e-d6e63865c97b",
   "metadata": {},
   "outputs": [
    {
     "data": {
      "text/plain": [
       "(506, 14)"
      ]
     },
     "execution_count": 31,
     "metadata": {},
     "output_type": "execute_result"
    }
   ],
   "source": [
    "X.shape"
   ]
  },
  {
   "cell_type": "code",
   "execution_count": 32,
   "id": "b4ec0966-8588-484d-83bf-b9f136d2a27a",
   "metadata": {},
   "outputs": [
    {
     "data": {
      "text/plain": [
       "2"
      ]
     },
     "execution_count": 32,
     "metadata": {},
     "output_type": "execute_result"
    }
   ],
   "source": [
    "X.ndim"
   ]
  },
  {
   "cell_type": "code",
   "execution_count": 33,
   "id": "5a5eac98-0d09-4c50-9ad6-01c22409afbd",
   "metadata": {},
   "outputs": [
    {
     "data": {
      "text/plain": [
       "506"
      ]
     },
     "execution_count": 33,
     "metadata": {},
     "output_type": "execute_result"
    }
   ],
   "source": [
    "len(X)"
   ]
  },
  {
   "cell_type": "code",
   "execution_count": 34,
   "id": "e879706c-9848-4d57-a1e6-41d213a58f76",
   "metadata": {},
   "outputs": [
    {
     "data": {
      "text/plain": [
       "array([1.000e+00, 6.320e-03, 1.800e+01, 2.310e+00, 0.000e+00, 5.380e-01,\n",
       "       6.575e+00, 6.520e+01, 4.090e+00, 1.000e+00, 2.960e+02, 1.530e+01,\n",
       "       3.969e+02, 4.980e+00])"
      ]
     },
     "execution_count": 34,
     "metadata": {},
     "output_type": "execute_result"
    }
   ],
   "source": [
    "X[0]"
   ]
  },
  {
   "cell_type": "code",
   "execution_count": 35,
   "id": "73c6ecd9-b964-4e85-a7cd-f382ac35e376",
   "metadata": {},
   "outputs": [
    {
     "data": {
      "text/plain": [
       "array([1.     , 0.00632])"
      ]
     },
     "execution_count": 35,
     "metadata": {},
     "output_type": "execute_result"
    }
   ],
   "source": [
    "X[0][0:2]"
   ]
  },
  {
   "cell_type": "code",
   "execution_count": 36,
   "id": "edad2228-5b51-4fd5-8f84-aaf3c663356c",
   "metadata": {},
   "outputs": [
    {
     "data": {
      "text/plain": [
       "array([[1.0000e+00, 6.3200e-03, 1.8000e+01, 2.3100e+00, 0.0000e+00,\n",
       "        5.3800e-01, 6.5750e+00, 6.5200e+01, 4.0900e+00, 1.0000e+00,\n",
       "        2.9600e+02, 1.5300e+01, 3.9690e+02, 4.9800e+00],\n",
       "       [2.0000e+00, 2.7310e-02, 0.0000e+00, 7.0700e+00, 0.0000e+00,\n",
       "        4.6900e-01, 6.4210e+00, 7.8900e+01, 4.9671e+00, 2.0000e+00,\n",
       "        2.4200e+02, 1.7800e+01, 3.9690e+02, 9.1400e+00]])"
      ]
     },
     "execution_count": 36,
     "metadata": {},
     "output_type": "execute_result"
    }
   ],
   "source": [
    "X[0:2]"
   ]
  },
  {
   "cell_type": "code",
   "execution_count": 37,
   "id": "32d41da9-b4a7-463a-8f33-b2141b1db2e7",
   "metadata": {},
   "outputs": [
    {
     "data": {
      "text/plain": [
       "2"
      ]
     },
     "execution_count": 37,
     "metadata": {},
     "output_type": "execute_result"
    }
   ],
   "source": [
    "X.ndim"
   ]
  },
  {
   "cell_type": "markdown",
   "id": "05bd865f-300a-47ac-bee3-91608d27d221",
   "metadata": {},
   "source": [
    "### ***Représentation des données pour les réseaux neuronaux : Tenseurs***"
   ]
  },
  {
   "cell_type": "markdown",
   "id": "41c8c15f-e4fd-46c2-833d-220f1e86b181",
   "metadata": {},
   "source": [
    "Dans le contexte de l'apprentissage profond (deep learning), les tenseurs sont la structure de données fondamentale. Ce sont des conteneurs qui stockent des données numériques et qui ont diverses dimensions. Les tenseurs sont une généralisation des matrices à un nombre arbitraire de dimensions. Les matrices sont un cas spécifique de tenseurs, notamment des tenseurs d'ordre 2 ou de rang-2.\n",
    "Qu'est-ce qu'un tenseur ?\n",
    "\n",
    "Un tenseur est simplement un objet qui contient des données numériques organisées en plusieurs dimensions. Les dimensions d'un tenseur sont appelées axes ou rang (rank). La dimension d'un tenseur fait référence au nombre d'axes qu'il possède, tandis que le rang (rank) est le nombre de dimensions que contient le tenseur."
   ]
  },
  {
   "cell_type": "markdown",
   "id": "98859917-bfd6-4e88-893d-8097ba5edeb2",
   "metadata": {},
   "source": [
    "Types de tenseurs"
   ]
  },
  {
   "cell_type": "markdown",
   "id": "5c2a5e62-b5e5-487b-914d-55209b42c78a",
   "metadata": {},
   "source": [
    "### Tenseur d'ordre 0"
   ]
  },
  {
   "cell_type": "code",
   "execution_count": 38,
   "id": "34991ed7-9641-47e1-9bb6-212bffe90c26",
   "metadata": {},
   "outputs": [
    {
     "data": {
      "text/plain": [
       "array(12)"
      ]
     },
     "execution_count": 38,
     "metadata": {},
     "output_type": "execute_result"
    }
   ],
   "source": [
    "import numpy as np\n",
    "x = np.array(12)\n",
    "x"
   ]
  },
  {
   "cell_type": "markdown",
   "id": "42307435-6d23-4cd2-80cc-5a1e0f6446fe",
   "metadata": {},
   "source": [
    "### Tenseur d'ordre 1"
   ]
  },
  {
   "cell_type": "code",
   "execution_count": 39,
   "id": "4b430a7c-268f-438f-b751-557527634005",
   "metadata": {},
   "outputs": [
    {
     "data": {
      "text/plain": [
       "1"
      ]
     },
     "execution_count": 39,
     "metadata": {},
     "output_type": "execute_result"
    }
   ],
   "source": [
    "x = np.array([12, 3, 6, 14, 7])\n",
    "x.ndim"
   ]
  },
  {
   "cell_type": "code",
   "execution_count": 40,
   "id": "376e124c-8feb-493b-9ae5-85d04f997138",
   "metadata": {},
   "outputs": [
    {
     "data": {
      "text/plain": [
       "(5,)"
      ]
     },
     "execution_count": 40,
     "metadata": {},
     "output_type": "execute_result"
    }
   ],
   "source": [
    "x.shape"
   ]
  },
  {
   "cell_type": "markdown",
   "id": "6e10c215-61d5-441b-8b5d-00f7ddeec5b2",
   "metadata": {},
   "source": [
    "### Tenseur d'ordre 2"
   ]
  },
  {
   "cell_type": "code",
   "execution_count": 41,
   "id": "0a0fe3dc-76d9-4c63-b7e1-3885faebbf8f",
   "metadata": {},
   "outputs": [
    {
     "data": {
      "text/plain": [
       "2"
      ]
     },
     "execution_count": 41,
     "metadata": {},
     "output_type": "execute_result"
    }
   ],
   "source": [
    "x = np.array([[5, 78, 2, 34, 0],\n",
    "              [6, 79, 3, 35, 1],\n",
    "              [7, 80, 4, 36, 2]])\n",
    "x.ndim"
   ]
  },
  {
   "cell_type": "code",
   "execution_count": 42,
   "id": "ebd9cd3f-56d0-47ca-a3bd-a5eec7c83ae4",
   "metadata": {},
   "outputs": [
    {
     "data": {
      "text/plain": [
       "(3, 5)"
      ]
     },
     "execution_count": 42,
     "metadata": {},
     "output_type": "execute_result"
    }
   ],
   "source": [
    "x.shape"
   ]
  },
  {
   "cell_type": "markdown",
   "id": "dd312d05-e8a3-4813-ba1c-0ba8fd0a36e2",
   "metadata": {},
   "source": [
    "### Tenseur d'ordre 3"
   ]
  },
  {
   "cell_type": "code",
   "execution_count": 43,
   "id": "0cd3ad6a-b7f1-487e-bc31-8132b70ee790",
   "metadata": {},
   "outputs": [
    {
     "data": {
      "text/plain": [
       "3"
      ]
     },
     "execution_count": 43,
     "metadata": {},
     "output_type": "execute_result"
    }
   ],
   "source": [
    "x = np.array([[[5, 78, 2, 34, 0],\n",
    "               [6, 79, 3, 35, 1],\n",
    "               [7, 80, 4, 36, 2]],\n",
    "              [[5, 78, 2, 34, 0],\n",
    "               [6, 79, 3, 35, 1],\n",
    "               [7, 80, 4, 36, 2]],\n",
    "              [[5, 78, 2, 34, 0],\n",
    "               [6, 79, 3, 35, 1],\n",
    "               [7, 80, 4, 36, 2]]])\n",
    "x.ndim"
   ]
  },
  {
   "cell_type": "code",
   "execution_count": 44,
   "id": "1a8e3e58-699c-442f-b069-1afeb2f54ac9",
   "metadata": {},
   "outputs": [
    {
     "data": {
      "text/plain": [
       "(3, 3, 5)"
      ]
     },
     "execution_count": 44,
     "metadata": {},
     "output_type": "execute_result"
    }
   ],
   "source": [
    "x.shape"
   ]
  },
  {
   "attachments": {
    "d9b4977f-1298-48b2-bb9e-b59dc15ca613.png": {
     "image/png": "[encoded data removed]"
    }
   },
   "cell_type": "markdown",
   "id": "4616f0f2-3ad6-49ea-9012-a58b3a9d12c1",
   "metadata": {},
   "source": [
    "\n",
    "![r.png](attachment:d9b4977f-1298-48b2-bb9e-b59dc15ca613.png)"
   ]
  },
  {
   "cell_type": "markdown",
   "id": "d7282866-ea14-4069-a5e1-cff84835b1e5",
   "metadata": {},
   "source": [
    "### Reshape"
   ]
  },
  {
   "cell_type": "markdown",
   "id": "aa544874-2bd3-47cc-8d48-02279bf3315b",
   "metadata": {},
   "source": [
    "La fonction ***reshape*** est une opération essentielle dans de nombreux frameworks de machine learning, comme NumPy, TensorFlow et PyTorch, qui permet de changer la forme (ou la structure) d'un tenseur tout en conservant ses données. Cela peut être particulièrement utile lorsque vous devez ajuster les dimensions de vos données pour qu'elles correspondent aux exigences d'un modèle ou d'une couche de réseau neuronal."
   ]
  },
  {
   "cell_type": "markdown",
   "id": "15a3b4a5-3269-4e2e-ad75-a1bbc2210753",
   "metadata": {},
   "source": [
    "***Concept de reshape***\n",
    "\n",
    "Le reshape consiste à restructurer les dimensions d'un tableau ou d'un tenseur sans modifier son contenu. Par exemple, vous pouvez transformer un vecteur en une matrice ou une matrice en un tableau unidimensionnel. Les éléments doivent être conservés dans le même ordre, mais leur agencement dans l'espace des dimensions change."
   ]
  },
  {
   "cell_type": "markdown",
   "id": "7f297741-1872-4897-be30-c2481394c032",
   "metadata": {},
   "source": [
    "***Exemple d'UTILISATION***"
   ]
  },
  {
   "cell_type": "code",
   "execution_count": 45,
   "id": "0bf63367-fc22-4a37-9d00-28fa3d83cacd",
   "metadata": {},
   "outputs": [
    {
     "data": {
      "text/plain": [
       "(6,)"
      ]
     },
     "execution_count": 45,
     "metadata": {},
     "output_type": "execute_result"
    }
   ],
   "source": [
    "import numpy as np\n",
    "\n",
    "# Créer un tableau 1D\n",
    "array = np.array([1, 2, 3, 4, 5, 6])\n",
    "array.ndim\n",
    "array.shape"
   ]
  },
  {
   "cell_type": "code",
   "execution_count": 46,
   "id": "4b88fef4-c575-4b75-a639-05fdea77a067",
   "metadata": {},
   "outputs": [
    {
     "data": {
      "text/plain": [
       "(1, 6)"
      ]
     },
     "execution_count": 46,
     "metadata": {},
     "output_type": "execute_result"
    }
   ],
   "source": [
    "# 1 Redimensionner en une matrice 1*6\n",
    "reshaped_array = array.reshape(1, 6)\n",
    "reshaped_array\n",
    "reshaped_array.shape"
   ]
  },
  {
   "cell_type": "code",
   "execution_count": 47,
   "id": "c49cd4fc-a0bc-43b0-acfd-fc71cb43bac2",
   "metadata": {},
   "outputs": [
    {
     "name": "stdout",
     "output_type": "stream",
     "text": [
      "(6,)\n",
      "(1, 6)\n"
     ]
    }
   ],
   "source": [
    "# 2  ajouter une dimention\n",
    "print(array.shape)\n",
    "r = np.expand_dims(array, axis=0)\n",
    "print(r.shape)"
   ]
  },
  {
   "cell_type": "code",
   "execution_count": 48,
   "id": "b56ff344-b350-4a0a-b172-b86d8a60bf9c",
   "metadata": {},
   "outputs": [
    {
     "data": {
      "text/plain": [
       "(1, 6)"
      ]
     },
     "execution_count": 48,
     "metadata": {},
     "output_type": "execute_result"
    }
   ],
   "source": [
    "reshaped_array.ndim\n",
    "reshaped_array.shape"
   ]
  },
  {
   "cell_type": "markdown",
   "id": "41763b33-9dc5-418d-9bf4-0040d82d82e1",
   "metadata": {},
   "source": [
    "Utilisation de -1 : Il est possible d'utiliser -1 dans l'une des dimensions lorsque vous ne savez pas quelle dimension exacte spécifier. TensorFlow ou NumPy calculera automatiquement la dimension manquante. Par exemple, si vous avez un tableau de taille 6 et que vous voulez le transformer en un tableau 3x?, vous pouvez utiliser -1 pour que la fonction calcule la dimension restante.\n",
    "\n",
    "Exemple "
   ]
  },
  {
   "cell_type": "code",
   "execution_count": 49,
   "id": "713738c7-5474-42f8-9319-94e5a15994b6",
   "metadata": {},
   "outputs": [
    {
     "data": {
      "text/plain": [
       "array([[1, 2, 3],\n",
       "       [4, 5, 6]])"
      ]
     },
     "execution_count": 49,
     "metadata": {},
     "output_type": "execute_result"
    }
   ],
   "source": [
    "# Redimensionner en une matrice 2x3\n",
    "reshaped_ar = array.reshape(2, -1)\n",
    "reshaped_ar"
   ]
  },
  {
   "cell_type": "code",
   "execution_count": 50,
   "id": "3b5a50ae-20c9-436e-b6e8-827c6bddc0d8",
   "metadata": {},
   "outputs": [
    {
     "data": {
      "text/plain": [
       "(2, 3)"
      ]
     },
     "execution_count": 50,
     "metadata": {},
     "output_type": "execute_result"
    }
   ],
   "source": [
    "reshaped_ar.shape"
   ]
  },
  {
   "cell_type": "markdown",
   "id": "1e0faab0-0c73-4f64-a3af-07a03468806b",
   "metadata": {},
   "source": [
    "# ***Division en ensemble d’entraînement et de test***"
   ]
  },
  {
   "cell_type": "code",
   "execution_count": 51,
   "id": "a58b597c-aab6-45b2-9a29-76603a81c9ec",
   "metadata": {},
   "outputs": [],
   "source": [
    "X_train, X_test, y_train, y_test = train_test_split(X, y, test_size=0.2, random_state=42)"
   ]
  },
  {
   "cell_type": "markdown",
   "id": "01276578-c99e-4b14-96f2-cea319427e11",
   "metadata": {},
   "source": [
    "### Pourquoi utiliser train_test_split ?\n",
    "\n",
    "Dans le machine learning et le deep learning, il est important de séparer les données en plusieurs parties :\n",
    "\n",
    "    Ensemble d'entraînement (train set) : utilisé pour entraîner le modèle.\n",
    "    Ensemble de test (test set) : utilisé pour évaluer la performance du modèle sur des données jamais vues.\n",
    "\n",
    "Cela permet de vérifier si le modèle généralise bien ou s'il fait du surapprentissage (overfitting)."
   ]
  },
  {
   "cell_type": "markdown",
   "id": "b5bee82f-4575-4a01-95c9-f44216e34a5b",
   "metadata": {},
   "source": [
    "Explication des paramètres\n",
    "\n",
    "    X : les features (variables d’entrée du modèle).\n",
    "    y : la variable cible (ce que l’on veut prédire).\n",
    "    test_size=0.2 : 20% des données seront utilisées pour le test, et 80% pour l'entraînement.\n",
    "    random_state=42 : permet de garder le même découpage à chaque exécution pour obtenir des résultats reproductibles.\n",
    "    train_size=0.8 (optionnel) : définit explicitement la proportion des données d’entraînement.\n",
    "    shuffle=True (par défaut) : mélange les données avant la séparation.\n",
    "    stratify=y (optionnel) : assure une répartition équilibrée des classes dans les ensembles d'entraînement et de test (utile pour la classification)."
   ]
  },
  {
   "cell_type": "markdown",
   "id": "914ddbfa-90f1-40e3-9dc7-c1946bf278de",
   "metadata": {},
   "source": [
    "# Normalisation des données"
   ]
  },
  {
   "cell_type": "markdown",
   "id": "80b3e628-b6dc-4f83-93f2-40341faee889",
   "metadata": {},
   "source": [
    "Les réseaux de neurones fonctionnent mieux avec des données normalisées :"
   ]
  },
  {
   "cell_type": "code",
   "execution_count": 52,
   "id": "e06a9777-3a23-4ea0-b084-64a4761567ee",
   "metadata": {},
   "outputs": [],
   "source": [
    "scaler = StandardScaler()  \n",
    "X_train = scaler.fit_transform(X_train)  \n",
    "X_test = scaler.transform(X_test)"
   ]
  },
  {
   "cell_type": "code",
   "execution_count": 53,
   "id": "2c790fc1-817e-49aa-93e8-fb56da06388b",
   "metadata": {},
   "outputs": [
    {
     "data": {
      "text/plain": [
       "array([ 1.59381791,  1.28770177, -0.50032012,  1.03323679, -0.27808871,\n",
       "        0.48925206, -1.42806858,  1.02801516, -0.80217296,  1.70689143,\n",
       "        1.57843444,  0.84534281, -0.07433689,  1.75350503])"
      ]
     },
     "execution_count": 53,
     "metadata": {},
     "output_type": "execute_result"
    }
   ],
   "source": [
    "X_train[0]"
   ]
  },
  {
   "cell_type": "markdown",
   "id": "e214458b-c63c-40a1-8019-6b1470fcb171",
   "metadata": {},
   "source": [
    "# Création du modèle de deep learning"
   ]
  },
  {
   "cell_type": "code",
   "execution_count": 54,
   "id": "5e97c6f8-8804-4788-944c-223768dd009a",
   "metadata": {},
   "outputs": [
    {
     "name": "stderr",
     "output_type": "stream",
     "text": [
      "C:\\Users\\FUJITSU\\AppData\\Local\\Packages\\PythonSoftwareFoundation.Python.3.11_qbz5n2kfra8p0\\LocalCache\\local-packages\\Python311\\site-packages\\keras\\src\\layers\\core\\dense.py:87: UserWarning: Do not pass an `input_shape`/`input_dim` argument to a layer. When using Sequential models, prefer using an `Input(shape)` object as the first layer in the model instead.\n",
      "  super().__init__(activity_regularizer=activity_regularizer, **kwargs)\n"
     ]
    }
   ],
   "source": [
    "model = keras.Sequential([\n",
    "    layers.Dense(64, activation=\"relu\", input_shape=(X_train.shape[1],)),  \n",
    "    layers.Dense(32, activation=\"relu\"),  \n",
    "    layers.Dense(1)   # pour clasification binaire  Activation doit etre sigmoid pour sortie binaire (0 ou 1)\n",
    "])"
   ]
  },
  {
   "cell_type": "markdown",
   "id": "50c874a6-a946-44a0-9fbe-6fe7e005cfcf",
   "metadata": {},
   "source": [
    "### Explication :\n",
    "\n",
    "    layers.Dense(64, activation='relu') → couche dense avec 64 neurones et fonction d’activation ReLU\n",
    "    input_shape=(10,) → entrée avec 10 features\n",
    "    sortie adaptée à régression sans fonction d'activation \n"
   ]
  },
  {
   "cell_type": "markdown",
   "id": "3d02ab06-7c48-4a33-bccd-a3308c657aa0",
   "metadata": {},
   "source": [
    "Affichage de modèle"
   ]
  },
  {
   "cell_type": "code",
   "execution_count": 55,
   "id": "5c23ddd4-334c-4d85-a3ce-54f6e8ab45a4",
   "metadata": {},
   "outputs": [
    {
     "data": {
      "text/html": [
       "<pre style=\"white-space:pre;overflow-x:auto;line-height:normal;font-family:Menlo,'DejaVu Sans Mono',consolas,'Courier New',monospace\"><span style=\"font-weight: bold\">Model: \"sequential\"</span>\n",
       "</pre>\n"
      ],
      "text/plain": [
       "\u001b[1mModel: \"sequential\"\u001b[0m\n"
      ]
     },
     "metadata": {},
     "output_type": "display_data"
    },
    {
     "data": {
      "text/html": [
       "<pre style=\"white-space:pre;overflow-x:auto;line-height:normal;font-family:Menlo,'DejaVu Sans Mono',consolas,'Courier New',monospace\">┏━━━━━━━━━━━━━━━━━━━━━━━━━━━━━━━━━┳━━━━━━━━━━━━━━━━━━━━━━━━┳━━━━━━━━━━━━━━━┓\n",
       "┃<span style=\"font-weight: bold\"> Layer (type)                    </span>┃<span style=\"font-weight: bold\"> Output Shape           </span>┃<span style=\"font-weight: bold\">       Param # </span>┃\n",
       "┡━━━━━━━━━━━━━━━━━━━━━━━━━━━━━━━━━╇━━━━━━━━━━━━━━━━━━━━━━━━╇━━━━━━━━━━━━━━━┩\n",
       "│ dense (<span style=\"color: #0087ff; text-decoration-color: #0087ff\">Dense</span>)                   │ (<span style=\"color: #00d7ff; text-decoration-color: #00d7ff\">None</span>, <span style=\"color: #00af00; text-decoration-color: #00af00\">64</span>)             │           <span style=\"color: #00af00; text-decoration-color: #00af00\">960</span> │\n",
       "├─────────────────────────────────┼────────────────────────┼───────────────┤\n",
       "│ dense_1 (<span style=\"color: #0087ff; text-decoration-color: #0087ff\">Dense</span>)                 │ (<span style=\"color: #00d7ff; text-decoration-color: #00d7ff\">None</span>, <span style=\"color: #00af00; text-decoration-color: #00af00\">32</span>)             │         <span style=\"color: #00af00; text-decoration-color: #00af00\">2,080</span> │\n",
       "├─────────────────────────────────┼────────────────────────┼───────────────┤\n",
       "│ dense_2 (<span style=\"color: #0087ff; text-decoration-color: #0087ff\">Dense</span>)                 │ (<span style=\"color: #00d7ff; text-decoration-color: #00d7ff\">None</span>, <span style=\"color: #00af00; text-decoration-color: #00af00\">1</span>)              │            <span style=\"color: #00af00; text-decoration-color: #00af00\">33</span> │\n",
       "└─────────────────────────────────┴────────────────────────┴───────────────┘\n",
       "</pre>\n"
      ],
      "text/plain": [
       "┏━━━━━━━━━━━━━━━━━━━━━━━━━━━━━━━━━┳━━━━━━━━━━━━━━━━━━━━━━━━┳━━━━━━━━━━━━━━━┓\n",
       "┃\u001b[1m \u001b[0m\u001b[1mLayer (type)                   \u001b[0m\u001b[1m \u001b[0m┃\u001b[1m \u001b[0m\u001b[1mOutput Shape          \u001b[0m\u001b[1m \u001b[0m┃\u001b[1m \u001b[0m\u001b[1m      Param #\u001b[0m\u001b[1m \u001b[0m┃\n",
       "┡━━━━━━━━━━━━━━━━━━━━━━━━━━━━━━━━━╇━━━━━━━━━━━━━━━━━━━━━━━━╇━━━━━━━━━━━━━━━┩\n",
       "│ dense (\u001b[38;5;33mDense\u001b[0m)                   │ (\u001b[38;5;45mNone\u001b[0m, \u001b[38;5;34m64\u001b[0m)             │           \u001b[38;5;34m960\u001b[0m │\n",
       "├─────────────────────────────────┼────────────────────────┼───────────────┤\n",
       "│ dense_1 (\u001b[38;5;33mDense\u001b[0m)                 │ (\u001b[38;5;45mNone\u001b[0m, \u001b[38;5;34m32\u001b[0m)             │         \u001b[38;5;34m2,080\u001b[0m │\n",
       "├─────────────────────────────────┼────────────────────────┼───────────────┤\n",
       "│ dense_2 (\u001b[38;5;33mDense\u001b[0m)                 │ (\u001b[38;5;45mNone\u001b[0m, \u001b[38;5;34m1\u001b[0m)              │            \u001b[38;5;34m33\u001b[0m │\n",
       "└─────────────────────────────────┴────────────────────────┴───────────────┘\n"
      ]
     },
     "metadata": {},
     "output_type": "display_data"
    },
    {
     "data": {
      "text/html": [
       "<pre style=\"white-space:pre;overflow-x:auto;line-height:normal;font-family:Menlo,'DejaVu Sans Mono',consolas,'Courier New',monospace\"><span style=\"font-weight: bold\"> Total params: </span><span style=\"color: #00af00; text-decoration-color: #00af00\">3,073</span> (12.00 KB)\n",
       "</pre>\n"
      ],
      "text/plain": [
       "\u001b[1m Total params: \u001b[0m\u001b[38;5;34m3,073\u001b[0m (12.00 KB)\n"
      ]
     },
     "metadata": {},
     "output_type": "display_data"
    },
    {
     "data": {
      "text/html": [
       "<pre style=\"white-space:pre;overflow-x:auto;line-height:normal;font-family:Menlo,'DejaVu Sans Mono',consolas,'Courier New',monospace\"><span style=\"font-weight: bold\"> Trainable params: </span><span style=\"color: #00af00; text-decoration-color: #00af00\">3,073</span> (12.00 KB)\n",
       "</pre>\n"
      ],
      "text/plain": [
       "\u001b[1m Trainable params: \u001b[0m\u001b[38;5;34m3,073\u001b[0m (12.00 KB)\n"
      ]
     },
     "metadata": {},
     "output_type": "display_data"
    },
    {
     "data": {
      "text/html": [
       "<pre style=\"white-space:pre;overflow-x:auto;line-height:normal;font-family:Menlo,'DejaVu Sans Mono',consolas,'Courier New',monospace\"><span style=\"font-weight: bold\"> Non-trainable params: </span><span style=\"color: #00af00; text-decoration-color: #00af00\">0</span> (0.00 B)\n",
       "</pre>\n"
      ],
      "text/plain": [
       "\u001b[1m Non-trainable params: \u001b[0m\u001b[38;5;34m0\u001b[0m (0.00 B)\n"
      ]
     },
     "metadata": {},
     "output_type": "display_data"
    }
   ],
   "source": [
    "model.summary()"
   ]
  },
  {
   "cell_type": "markdown",
   "id": "b1b18059-dcb5-45f6-b5ab-902a5cae138a",
   "metadata": {},
   "source": [
    "# Compilation du modèle"
   ]
  },
  {
   "cell_type": "markdown",
   "id": "222b84b1-e8c1-49ad-9a84-175dc0c771ee",
   "metadata": {},
   "source": [
    "Pour que nous puissions entraîner le modèle, celui-ci doit être compilé, et pour cela, nous devons choisir :\n",
    "\n",
    "    l'optimiseur (???) \n",
    "    la fonction de perte (loss function)  (????)\n",
    "    les métriques de performance (????)"
   ]
  },
  {
   "cell_type": "markdown",
   "id": "fa7ff141-3c13-4755-ada8-3badb29ac9c8",
   "metadata": {},
   "source": [
    "### ***Pour un problème de régression, la fonction de perte utilisée est souvent l’erreur quadratique moyenne (MSE) :***"
   ]
  },
  {
   "cell_type": "code",
   "execution_count": 56,
   "id": "feeb4c93-bc1c-4fd9-bdb9-94e7582cdcbf",
   "metadata": {},
   "outputs": [],
   "source": [
    "from tensorflow.keras.optimizers import Adam\n",
    "algor = Adam(learning_rate=0.001)\n",
    "\n",
    "model.compile(optimizer=algor, loss=\"mse\", metrics=[\"mae\"])"
   ]
  },
  {
   "attachments": {
    "a6f907ec-5380-4e75-998f-44e2c24aebe1.png": {
     "image/png": "[encoded data removed]"
    }
   },
   "cell_type": "markdown",
   "id": "37d92826-44e9-450d-968b-263635c75c31",
   "metadata": {},
   "source": [
    "mae : ![rr.png](attachment:a6f907ec-5380-4e75-998f-44e2c24aebe1.png)"
   ]
  },
  {
   "cell_type": "markdown",
   "id": "1500bf48-ffbb-4ae5-981f-41f025aaa291",
   "metadata": {},
   "source": [
    "optimizer\n",
    "1. SGD\n",
    "   \n",
    "optimizer = tf.keras.optimizers.SGD(learning_rate=0.01)\n",
    "\n",
    "3. Adam (Adaptive Moment Estimation)\n",
    " \n",
    "optimizer = tf.keras.optimizers.Adam(learning_rate=0.001)\n",
    "\n",
    "4. RMSprop\n",
    "   \n",
    "optimizer = tf.keras.optimizers.RMSprop(learning_rate=0.001)\n",
    "\n",
    "5. Adagrad\n",
    "   \n",
    "optimizer = tf.keras.optimizers.Adagrad(learning_rate=0.01)"
   ]
  },
  {
   "cell_type": "markdown",
   "id": "d9fc0ee5-a1aa-4fb2-bf61-66ab163df262",
   "metadata": {},
   "source": [
    "# Entraînement du modèle"
   ]
  },
  {
   "cell_type": "markdown",
   "id": "cefb6d19-dcea-4761-8d79-8b83be541431",
   "metadata": {},
   "source": [
    "On entraîne le modèle avec 100 époques :"
   ]
  },
  {
   "cell_type": "code",
   "execution_count": 57,
   "id": "c9fa24e0-a71f-4938-9ab9-e6cf80786386",
   "metadata": {},
   "outputs": [
    {
     "name": "stdout",
     "output_type": "stream",
     "text": [
      "Epoch 1/5\n",
      "\u001b[1m7/7\u001b[0m \u001b[32m━━━━━━━━━━━━━━━━━━━━\u001b[0m\u001b[37m\u001b[0m \u001b[1m2s\u001b[0m 11ms/step - loss: 624.9349 - mae: 23.1566\n",
      "Epoch 2/5\n",
      "\u001b[1m7/7\u001b[0m \u001b[32m━━━━━━━━━━━━━━━━━━━━\u001b[0m\u001b[37m\u001b[0m \u001b[1m0s\u001b[0m 8ms/step - loss: 619.8168 - mae: 22.8114 \n",
      "Epoch 3/5\n",
      "\u001b[1m7/7\u001b[0m \u001b[32m━━━━━━━━━━━━━━━━━━━━\u001b[0m\u001b[37m\u001b[0m \u001b[1m0s\u001b[0m 14ms/step - loss: 568.3307 - mae: 21.9760\n",
      "Epoch 4/5\n",
      "\u001b[1m7/7\u001b[0m \u001b[32m━━━━━━━━━━━━━━━━━━━━\u001b[0m\u001b[37m\u001b[0m \u001b[1m0s\u001b[0m 8ms/step - loss: 533.0869 - mae: 21.1289  \n",
      "Epoch 5/5\n",
      "\u001b[1m7/7\u001b[0m \u001b[32m━━━━━━━━━━━━━━━━━━━━\u001b[0m\u001b[37m\u001b[0m \u001b[1m0s\u001b[0m 8ms/step - loss: 521.4876 - mae: 20.8620 \n"
     ]
    }
   ],
   "source": [
    "history = model.fit(X_train, y_train, epochs=5, batch_size=64)\n",
    "#history = model.fit(X_train, y_train, epochs=100, validation_data=(X_test, y_test), batch_size=32)"
   ]
  },
  {
   "cell_type": "markdown",
   "id": "2433e1eb-e7a6-46c8-8243-3fef24183d63",
   "metadata": {},
   "source": [
    "Explication \n",
    "\n",
    "***1. Epochs***\n",
    "\n",
    "Une epoch correspond à un passage complet sur l’ensemble des données d’entraînement par le modèle. Lors de chaque epoch, le modèle traite toutes les données d’entraînement une fois (ou plusieurs fois en fonction du nombre d’epochs défini).\n",
    "\n",
    "    Un modèle peut nécessiter plusieurs epochs pour apprendre les bonnes relations dans les données.\n",
    "    Trop peu d’epochs peuvent conduire à un sous-apprentissage (underfitting), et trop d’epochs peuvent causer un surapprentissage (overfitting).batch size\n",
    "\n",
    "***2. Batch size***\n",
    "\n",
    "Le batch size (taille du lot) définit le nombre d'échantillons que le modèle traite avant d’ajuster ses poids. Au lieu de passer toutes les données d’un coup (ce qui pourrait être trop lourd en mémoire), les données sont divisées en mini-lots (batches).\n",
    "\n",
    "    Petit batch (batch size faible, ex: 16, 32) :\n",
    "        Plus de mises à jour du modèle\n",
    "        Moins de consommation mémoire\n",
    "        Peut introduire plus de bruit dans l’optimisation\n",
    "    Grand batch (ex: 128, 256, 512...) :\n",
    "        Plus stable mais nécessite plus de mémoire\n",
    "        Moins de mises à jour\n",
    "\n"
   ]
  },
  {
   "cell_type": "code",
   "execution_count": null,
   "id": "b6c1c32b-0b56-4b94-92e3-a556b80a047b",
   "metadata": {},
   "outputs": [],
   "source": []
  },
  {
   "cell_type": "markdown",
   "id": "a575a58c-612e-4ebc-89b5-b95946b05dac",
   "metadata": {},
   "source": [
    "# Évaluation du modèle"
   ]
  },
  {
   "cell_type": "code",
   "execution_count": 58,
   "id": "1eaae217-44e2-4d54-8e37-ecd68d830bb7",
   "metadata": {},
   "outputs": [
    {
     "data": {
      "image/png": "[encoded data removed]",
      "text/plain": [
       "<Figure size 640x480 with 1 Axes>"
      ]
     },
     "metadata": {},
     "output_type": "display_data"
    }
   ],
   "source": [
    "plt.plot(history.history['loss'], label=\"Loss d'entraînement\")  \n",
    "#plt.plot(history.history['val_loss'], label=\"Loss de validation\")  \n",
    "plt.legend()  \n",
    "plt.show() "
   ]
  },
  {
   "cell_type": "markdown",
   "id": "1efa7382-90d0-43f2-b626-b5aae5f6306d",
   "metadata": {},
   "source": [
    "# Évaluation sur les données de test"
   ]
  },
  {
   "cell_type": "code",
   "execution_count": 59,
   "id": "f86a0bde-1b13-4de7-b388-bb10bec0bc55",
   "metadata": {},
   "outputs": [
    {
     "name": "stdout",
     "output_type": "stream",
     "text": [
      "\u001b[1m4/4\u001b[0m \u001b[32m━━━━━━━━━━━━━━━━━━━━\u001b[0m\u001b[37m\u001b[0m \u001b[1m1s\u001b[0m 37ms/step - loss: 456.7791 - mae: 19.6939\n",
      "Erreur quadratique moyenne (MSE) : 465.1346740722656\n",
      "Erreur absolue moyenne (MAE) : 19.767250061035156\n"
     ]
    }
   ],
   "source": [
    "loss, mae = model.evaluate(X_test, y_test)\n",
    "print(f\"Erreur quadratique moyenne (MSE) : {loss}\")\n",
    "print(f\"Erreur absolue moyenne (MAE) : {mae}\")"
   ]
  },
  {
   "cell_type": "markdown",
   "id": "f65e98e9-e884-46af-a944-cee86f5a5f18",
   "metadata": {},
   "source": [
    "### utilisation de méthode predict "
   ]
  },
  {
   "cell_type": "code",
   "execution_count": 60,
   "id": "14039607-4296-4037-afd3-9505bb95027f",
   "metadata": {},
   "outputs": [
    {
     "name": "stdout",
     "output_type": "stream",
     "text": [
      "\u001b[1m4/4\u001b[0m \u001b[32m━━━━━━━━━━━━━━━━━━━━\u001b[0m\u001b[37m\u001b[0m \u001b[1m0s\u001b[0m 30ms/step\n"
     ]
    }
   ],
   "source": [
    "# Prédictions\n",
    "y_pred = model.predict(X_test)"
   ]
  },
  {
   "cell_type": "code",
   "execution_count": 61,
   "id": "872dff4c-8d17-4c8e-846b-4ee06d41eb58",
   "metadata": {},
   "outputs": [
    {
     "data": {
      "image/png": "[encoded data removed]",
      "text/plain": [
       "<Figure size 640x480 with 1 Axes>"
      ]
     },
     "metadata": {},
     "output_type": "display_data"
    }
   ],
   "source": [
    "\n",
    "# Visualisation des résultats\n",
    "plt.scatter(y_test, y_pred, label='Prédictions')\n",
    "plt.xlabel('Vrais Prix')\n",
    "plt.ylabel('Prix Prédits')\n",
    "plt.legend()\n",
    "plt.show()"
   ]
  },
  {
   "cell_type": "code",
   "execution_count": null,
   "id": "b0050404-01a1-49fa-bfe9-b1f0f6de9376",
   "metadata": {},
   "outputs": [],
   "source": []
  },
  {
   "cell_type": "markdown",
   "id": "4c4e822b-1dc0-4e36-a3e7-5643d985d8a2",
   "metadata": {},
   "source": [
    "Résumé des étapes\n",
    "\n",
    "    Installation des bibliothèques\n",
    "    Importation des bibliothèques\n",
    "    Chargement et exploration des données\n",
    "    Préparation des données (train-test split et normalisation)\n",
    "    Création du modèle avec Keras\n",
    "    Compilation avec adam et mse\n",
    "    Entraînement du modèle\n",
    "    Évaluation et visualisation des performances\n",
    "    Test avec de nouvelles données"
   ]
  },
  {
   "cell_type": "markdown",
   "id": "53b0f7aa-928d-4534-b348-b189a1aed1eb",
   "metadata": {},
   "source": [
    "## Exercice"
   ]
  },
  {
   "cell_type": "markdown",
   "id": "58d11233-f9a6-4ce9-bce0-0a6fe7a86cf0",
   "metadata": {},
   "source": [
    "1. Modifier l’architecture du réseau (ajouter/supprimer des couches).\n",
    "\n",
    "2. Changer le nombre d’époques et voir l’impact sur l’apprentissage.\n",
    "\n",
    "3. Expérimenter avec d’autres fonctions d’activation (sigmoid, relu).\n",
    "\n",
    "4. Tester d'autres optimisateurs comme SGD ou RMSprop.\n",
    "\n",
    "5. Expérimenter avec différentes tailles de batchs."
   ]
  },
  {
   "cell_type": "code",
   "execution_count": null,
   "id": "802890eb-7cf2-401c-8178-9906921078ef",
   "metadata": {},
   "outputs": [],
   "source": []
  }
 ],
 "metadata": {
  "kernelspec": {
   "display_name": "Python 3",
   "language": "python",
   "name": "python3"
  },
  "language_info": {
   "codemirror_mode": {
    "name": "ipython",
    "version": 3
   },
   "file_extension": ".py",
   "mimetype": "text/x-python",
   "name": "python",
   "nbconvert_exporter": "python",
   "pygments_lexer": "ipython3",
   "version": "3.11.9"
  }
 },
 "nbformat": 4,
 "nbformat_minor": 5
}
